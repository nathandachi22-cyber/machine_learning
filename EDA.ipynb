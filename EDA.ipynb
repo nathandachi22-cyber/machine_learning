{
 "cells": [
  {
   "cell_type": "code",
   "execution_count": 1,
   "id": "9b70db96",
   "metadata": {},
   "outputs": [
    {
     "name": "stdout",
     "output_type": "stream",
     "text": [
      "<class 'pandas.core.frame.DataFrame'>\n",
      "RangeIndex: 10 entries, 0 to 9\n",
      "Data columns (total 4 columns):\n",
      " #   Column             Non-Null Count  Dtype  \n",
      "---  ------             --------------  -----  \n",
      " 0   IPK                10 non-null     float64\n",
      " 1   Jumlah_Absensi     10 non-null     int64  \n",
      " 2   Waktu_Belajar_Jam  10 non-null     int64  \n",
      " 3   Lulus              10 non-null     int64  \n",
      "dtypes: float64(1), int64(3)\n",
      "memory usage: 448.0 bytes\n",
      "None\n",
      "   IPK  Jumlah_Absensi  Waktu_Belajar_Jam  Lulus\n",
      "0  3.8               3                 10      1\n",
      "1  2.5               8                  5      0\n",
      "2  3.4               4                  7      1\n",
      "3  2.1              12                  2      0\n",
      "4  3.9               2                 12      1\n"
     ]
    }
   ],
   "source": [
    "import pandas as pd\n",
    "df = pd.read_csv(\"kelulusan_mahasiswa.csv\")\n",
    "print(df.info())\n",
    "print(df.head())"
   ]
  },
  {
   "cell_type": "code",
   "execution_count": null,
   "id": "ba758463",
   "metadata": {},
   "outputs": [],
   "source": []
  }
 ],
 "metadata": {
  "kernelspec": {
   "display_name": ".venv",
   "language": "python",
   "name": "python3"
  },
  "language_info": {
   "codemirror_mode": {
    "name": "ipython",
    "version": 3
   },
   "file_extension": ".py",
   "mimetype": "text/x-python",
   "name": "python",
   "nbconvert_exporter": "python",
   "pygments_lexer": "ipython3",
   "version": "3.10.11"
  }
 },
 "nbformat": 4,
 "nbformat_minor": 5
}
