{
 "cells": [
  {
   "cell_type": "code",
   "execution_count": 3,
   "id": "f9057416",
   "metadata": {},
   "outputs": [
    {
     "name": "stdout",
     "output_type": "stream",
     "text": [
      "(7, 5) (1, 5) (2, 5)\n"
     ]
    }
   ],
   "source": [
    "import pandas as pd\n",
    "from sklearn.model_selection import train_test_split\n",
    "from sklearn.preprocessing import StandardScaler\n",
    "\n",
    "df = pd.read_csv(\"processed_kelulusan.csv\")\n",
    "X = df.drop(\"Lulus\", axis=1)\n",
    "y = df[\"Lulus\"]\n",
    "\n",
    "sc = StandardScaler()\n",
    "Xs = sc.fit_transform(X)\n",
    "\n",
    "X_train, X_temp, y_train, y_temp = train_test_split(\n",
    "    Xs, y, test_size=0.3, stratify=y, random_state=42)\n",
    "X_val, X_test, y_val, y_test = train_test_split(\n",
    "    X_temp, y_temp, test_size=0.5, random_state=42)\n",
    "\n",
    "print(X_train.shape, X_val.shape, X_test.shape)"
   ]
  },
  {
   "cell_type": "code",
   "execution_count": 5,
   "id": "7c8697fa",
   "metadata": {},
   "outputs": [
    {
     "data": {
      "text/html": [
       "<pre style=\"white-space:pre;overflow-x:auto;line-height:normal;font-family:Menlo,'DejaVu Sans Mono',consolas,'Courier New',monospace\"><span style=\"font-weight: bold\">Model: \"sequential\"</span>\n",
       "</pre>\n"
      ],
      "text/plain": [
       "\u001b[1mModel: \"sequential\"\u001b[0m\n"
      ]
     },
     "metadata": {},
     "output_type": "display_data"
    },
    {
     "data": {
      "text/html": [
       "<pre style=\"white-space:pre;overflow-x:auto;line-height:normal;font-family:Menlo,'DejaVu Sans Mono',consolas,'Courier New',monospace\">┏━━━━━━━━━━━━━━━━━━━━━━━━━━━━━━━━━┳━━━━━━━━━━━━━━━━━━━━━━━━┳━━━━━━━━━━━━━━━┓\n",
       "┃<span style=\"font-weight: bold\"> Layer (type)                    </span>┃<span style=\"font-weight: bold\"> Output Shape           </span>┃<span style=\"font-weight: bold\">       Param # </span>┃\n",
       "┡━━━━━━━━━━━━━━━━━━━━━━━━━━━━━━━━━╇━━━━━━━━━━━━━━━━━━━━━━━━╇━━━━━━━━━━━━━━━┩\n",
       "│ dense (<span style=\"color: #0087ff; text-decoration-color: #0087ff\">Dense</span>)                   │ (<span style=\"color: #00d7ff; text-decoration-color: #00d7ff\">None</span>, <span style=\"color: #00af00; text-decoration-color: #00af00\">32</span>)             │           <span style=\"color: #00af00; text-decoration-color: #00af00\">192</span> │\n",
       "├─────────────────────────────────┼────────────────────────┼───────────────┤\n",
       "│ dropout (<span style=\"color: #0087ff; text-decoration-color: #0087ff\">Dropout</span>)               │ (<span style=\"color: #00d7ff; text-decoration-color: #00d7ff\">None</span>, <span style=\"color: #00af00; text-decoration-color: #00af00\">32</span>)             │             <span style=\"color: #00af00; text-decoration-color: #00af00\">0</span> │\n",
       "├─────────────────────────────────┼────────────────────────┼───────────────┤\n",
       "│ dense_1 (<span style=\"color: #0087ff; text-decoration-color: #0087ff\">Dense</span>)                 │ (<span style=\"color: #00d7ff; text-decoration-color: #00d7ff\">None</span>, <span style=\"color: #00af00; text-decoration-color: #00af00\">16</span>)             │           <span style=\"color: #00af00; text-decoration-color: #00af00\">528</span> │\n",
       "├─────────────────────────────────┼────────────────────────┼───────────────┤\n",
       "│ dense_2 (<span style=\"color: #0087ff; text-decoration-color: #0087ff\">Dense</span>)                 │ (<span style=\"color: #00d7ff; text-decoration-color: #00d7ff\">None</span>, <span style=\"color: #00af00; text-decoration-color: #00af00\">1</span>)              │            <span style=\"color: #00af00; text-decoration-color: #00af00\">17</span> │\n",
       "└─────────────────────────────────┴────────────────────────┴───────────────┘\n",
       "</pre>\n"
      ],
      "text/plain": [
       "┏━━━━━━━━━━━━━━━━━━━━━━━━━━━━━━━━━┳━━━━━━━━━━━━━━━━━━━━━━━━┳━━━━━━━━━━━━━━━┓\n",
       "┃\u001b[1m \u001b[0m\u001b[1mLayer (type)                   \u001b[0m\u001b[1m \u001b[0m┃\u001b[1m \u001b[0m\u001b[1mOutput Shape          \u001b[0m\u001b[1m \u001b[0m┃\u001b[1m \u001b[0m\u001b[1m      Param #\u001b[0m\u001b[1m \u001b[0m┃\n",
       "┡━━━━━━━━━━━━━━━━━━━━━━━━━━━━━━━━━╇━━━━━━━━━━━━━━━━━━━━━━━━╇━━━━━━━━━━━━━━━┩\n",
       "│ dense (\u001b[38;5;33mDense\u001b[0m)                   │ (\u001b[38;5;45mNone\u001b[0m, \u001b[38;5;34m32\u001b[0m)             │           \u001b[38;5;34m192\u001b[0m │\n",
       "├─────────────────────────────────┼────────────────────────┼───────────────┤\n",
       "│ dropout (\u001b[38;5;33mDropout\u001b[0m)               │ (\u001b[38;5;45mNone\u001b[0m, \u001b[38;5;34m32\u001b[0m)             │             \u001b[38;5;34m0\u001b[0m │\n",
       "├─────────────────────────────────┼────────────────────────┼───────────────┤\n",
       "│ dense_1 (\u001b[38;5;33mDense\u001b[0m)                 │ (\u001b[38;5;45mNone\u001b[0m, \u001b[38;5;34m16\u001b[0m)             │           \u001b[38;5;34m528\u001b[0m │\n",
       "├─────────────────────────────────┼────────────────────────┼───────────────┤\n",
       "│ dense_2 (\u001b[38;5;33mDense\u001b[0m)                 │ (\u001b[38;5;45mNone\u001b[0m, \u001b[38;5;34m1\u001b[0m)              │            \u001b[38;5;34m17\u001b[0m │\n",
       "└─────────────────────────────────┴────────────────────────┴───────────────┘\n"
      ]
     },
     "metadata": {},
     "output_type": "display_data"
    },
    {
     "data": {
      "text/html": [
       "<pre style=\"white-space:pre;overflow-x:auto;line-height:normal;font-family:Menlo,'DejaVu Sans Mono',consolas,'Courier New',monospace\"><span style=\"font-weight: bold\"> Total params: </span><span style=\"color: #00af00; text-decoration-color: #00af00\">737</span> (2.88 KB)\n",
       "</pre>\n"
      ],
      "text/plain": [
       "\u001b[1m Total params: \u001b[0m\u001b[38;5;34m737\u001b[0m (2.88 KB)\n"
      ]
     },
     "metadata": {},
     "output_type": "display_data"
    },
    {
     "data": {
      "text/html": [
       "<pre style=\"white-space:pre;overflow-x:auto;line-height:normal;font-family:Menlo,'DejaVu Sans Mono',consolas,'Courier New',monospace\"><span style=\"font-weight: bold\"> Trainable params: </span><span style=\"color: #00af00; text-decoration-color: #00af00\">737</span> (2.88 KB)\n",
       "</pre>\n"
      ],
      "text/plain": [
       "\u001b[1m Trainable params: \u001b[0m\u001b[38;5;34m737\u001b[0m (2.88 KB)\n"
      ]
     },
     "metadata": {},
     "output_type": "display_data"
    },
    {
     "data": {
      "text/html": [
       "<pre style=\"white-space:pre;overflow-x:auto;line-height:normal;font-family:Menlo,'DejaVu Sans Mono',consolas,'Courier New',monospace\"><span style=\"font-weight: bold\"> Non-trainable params: </span><span style=\"color: #00af00; text-decoration-color: #00af00\">0</span> (0.00 B)\n",
       "</pre>\n"
      ],
      "text/plain": [
       "\u001b[1m Non-trainable params: \u001b[0m\u001b[38;5;34m0\u001b[0m (0.00 B)\n"
      ]
     },
     "metadata": {},
     "output_type": "display_data"
    }
   ],
   "source": [
    "import tensorflow as tf\n",
    "from tensorflow import keras\n",
    "from tensorflow.keras import layers\n",
    "\n",
    "model = keras.Sequential([\n",
    "    layers.Input(shape=(X_train.shape[1],)),\n",
    "    layers.Dense(32, activation=\"relu\"),\n",
    "    layers.Dropout(0.3),\n",
    "    layers.Dense(16, activation=\"relu\"),\n",
    "    layers.Dense(1, activation=\"sigmoid\")  # klasifikasi biner\n",
    "])\n",
    "\n",
    "model.compile(optimizer=keras.optimizers.Adam(1e-3),\n",
    "              loss=\"binary_crossentropy\",\n",
    "              metrics=[\"accuracy\",\"AUC\"])\n",
    "model.summary()"
   ]
  },
  {
   "cell_type": "code",
   "execution_count": 6,
   "id": "3c57feb3",
   "metadata": {},
   "outputs": [
    {
     "name": "stdout",
     "output_type": "stream",
     "text": [
      "Epoch 1/100\n",
      "\u001b[1m1/1\u001b[0m \u001b[32m━━━━━━━━━━━━━━━━━━━━\u001b[0m\u001b[37m\u001b[0m \u001b[1m2s\u001b[0m 2s/step - AUC: 1.0000 - accuracy: 0.4286 - loss: 0.6043 - val_AUC: 0.0000e+00 - val_accuracy: 0.0000e+00 - val_loss: 0.7990\n",
      "Epoch 2/100\n",
      "\u001b[1m1/1\u001b[0m \u001b[32m━━━━━━━━━━━━━━━━━━━━\u001b[0m\u001b[37m\u001b[0m \u001b[1m0s\u001b[0m 128ms/step - AUC: 1.0000 - accuracy: 0.5714 - loss: 0.6442 - val_AUC: 0.0000e+00 - val_accuracy: 0.0000e+00 - val_loss: 0.7923\n",
      "Epoch 3/100\n",
      "\u001b[1m1/1\u001b[0m \u001b[32m━━━━━━━━━━━━━━━━━━━━\u001b[0m\u001b[37m\u001b[0m \u001b[1m0s\u001b[0m 120ms/step - AUC: 0.7500 - accuracy: 0.4286 - loss: 0.6984 - val_AUC: 0.0000e+00 - val_accuracy: 0.0000e+00 - val_loss: 0.7859\n",
      "Epoch 4/100\n",
      "\u001b[1m1/1\u001b[0m \u001b[32m━━━━━━━━━━━━━━━━━━━━\u001b[0m\u001b[37m\u001b[0m \u001b[1m0s\u001b[0m 113ms/step - AUC: 1.0000 - accuracy: 0.4286 - loss: 0.5953 - val_AUC: 0.0000e+00 - val_accuracy: 0.0000e+00 - val_loss: 0.7791\n",
      "Epoch 5/100\n",
      "\u001b[1m1/1\u001b[0m \u001b[32m━━━━━━━━━━━━━━━━━━━━\u001b[0m\u001b[37m\u001b[0m \u001b[1m0s\u001b[0m 115ms/step - AUC: 1.0000 - accuracy: 0.4286 - loss: 0.5618 - val_AUC: 0.0000e+00 - val_accuracy: 0.0000e+00 - val_loss: 0.7723\n",
      "Epoch 6/100\n",
      "\u001b[1m1/1\u001b[0m \u001b[32m━━━━━━━━━━━━━━━━━━━━\u001b[0m\u001b[37m\u001b[0m \u001b[1m0s\u001b[0m 118ms/step - AUC: 1.0000 - accuracy: 0.4286 - loss: 0.6085 - val_AUC: 0.0000e+00 - val_accuracy: 0.0000e+00 - val_loss: 0.7655\n",
      "Epoch 7/100\n",
      "\u001b[1m1/1\u001b[0m \u001b[32m━━━━━━━━━━━━━━━━━━━━\u001b[0m\u001b[37m\u001b[0m \u001b[1m0s\u001b[0m 112ms/step - AUC: 1.0000 - accuracy: 0.4286 - loss: 0.5522 - val_AUC: 0.0000e+00 - val_accuracy: 0.0000e+00 - val_loss: 0.7586\n",
      "Epoch 8/100\n",
      "\u001b[1m1/1\u001b[0m \u001b[32m━━━━━━━━━━━━━━━━━━━━\u001b[0m\u001b[37m\u001b[0m \u001b[1m0s\u001b[0m 121ms/step - AUC: 1.0000 - accuracy: 0.4286 - loss: 0.5730 - val_AUC: 0.0000e+00 - val_accuracy: 0.0000e+00 - val_loss: 0.7519\n",
      "Epoch 9/100\n",
      "\u001b[1m1/1\u001b[0m \u001b[32m━━━━━━━━━━━━━━━━━━━━\u001b[0m\u001b[37m\u001b[0m \u001b[1m0s\u001b[0m 122ms/step - AUC: 1.0000 - accuracy: 0.5714 - loss: 0.5600 - val_AUC: 0.0000e+00 - val_accuracy: 0.0000e+00 - val_loss: 0.7455\n",
      "Epoch 10/100\n",
      "\u001b[1m1/1\u001b[0m \u001b[32m━━━━━━━━━━━━━━━━━━━━\u001b[0m\u001b[37m\u001b[0m \u001b[1m0s\u001b[0m 136ms/step - AUC: 1.0000 - accuracy: 0.4286 - loss: 0.5980 - val_AUC: 0.0000e+00 - val_accuracy: 0.0000e+00 - val_loss: 0.7391\n",
      "Epoch 11/100\n",
      "\u001b[1m1/1\u001b[0m \u001b[32m━━━━━━━━━━━━━━━━━━━━\u001b[0m\u001b[37m\u001b[0m \u001b[1m0s\u001b[0m 158ms/step - AUC: 0.8333 - accuracy: 0.4286 - loss: 0.6328 - val_AUC: 0.0000e+00 - val_accuracy: 0.0000e+00 - val_loss: 0.7327\n",
      "Epoch 12/100\n",
      "\u001b[1m1/1\u001b[0m \u001b[32m━━━━━━━━━━━━━━━━━━━━\u001b[0m\u001b[37m\u001b[0m \u001b[1m0s\u001b[0m 165ms/step - AUC: 1.0000 - accuracy: 0.5714 - loss: 0.5438 - val_AUC: 0.0000e+00 - val_accuracy: 0.0000e+00 - val_loss: 0.7264\n",
      "Epoch 13/100\n",
      "\u001b[1m1/1\u001b[0m \u001b[32m━━━━━━━━━━━━━━━━━━━━\u001b[0m\u001b[37m\u001b[0m \u001b[1m0s\u001b[0m 151ms/step - AUC: 1.0000 - accuracy: 0.4286 - loss: 0.5565 - val_AUC: 0.0000e+00 - val_accuracy: 0.0000e+00 - val_loss: 0.7201\n",
      "Epoch 14/100\n",
      "\u001b[1m1/1\u001b[0m \u001b[32m━━━━━━━━━━━━━━━━━━━━\u001b[0m\u001b[37m\u001b[0m \u001b[1m0s\u001b[0m 142ms/step - AUC: 1.0000 - accuracy: 0.4286 - loss: 0.5686 - val_AUC: 0.0000e+00 - val_accuracy: 0.0000e+00 - val_loss: 0.7139\n",
      "Epoch 15/100\n",
      "\u001b[1m1/1\u001b[0m \u001b[32m━━━━━━━━━━━━━━━━━━━━\u001b[0m\u001b[37m\u001b[0m \u001b[1m0s\u001b[0m 158ms/step - AUC: 1.0000 - accuracy: 0.5714 - loss: 0.5249 - val_AUC: 0.0000e+00 - val_accuracy: 0.0000e+00 - val_loss: 0.7078\n",
      "Epoch 16/100\n",
      "\u001b[1m1/1\u001b[0m \u001b[32m━━━━━━━━━━━━━━━━━━━━\u001b[0m\u001b[37m\u001b[0m \u001b[1m0s\u001b[0m 196ms/step - AUC: 1.0000 - accuracy: 0.5714 - loss: 0.5475 - val_AUC: 0.0000e+00 - val_accuracy: 0.0000e+00 - val_loss: 0.7016\n",
      "Epoch 17/100\n",
      "\u001b[1m1/1\u001b[0m \u001b[32m━━━━━━━━━━━━━━━━━━━━\u001b[0m\u001b[37m\u001b[0m \u001b[1m0s\u001b[0m 141ms/step - AUC: 1.0000 - accuracy: 0.4286 - loss: 0.5800 - val_AUC: 0.0000e+00 - val_accuracy: 0.0000e+00 - val_loss: 0.6954\n",
      "Epoch 18/100\n",
      "\u001b[1m1/1\u001b[0m \u001b[32m━━━━━━━━━━━━━━━━━━━━\u001b[0m\u001b[37m\u001b[0m \u001b[1m0s\u001b[0m 149ms/step - AUC: 1.0000 - accuracy: 0.5714 - loss: 0.4694 - val_AUC: 0.0000e+00 - val_accuracy: 1.0000 - val_loss: 0.6895\n",
      "Epoch 19/100\n",
      "\u001b[1m1/1\u001b[0m \u001b[32m━━━━━━━━━━━━━━━━━━━━\u001b[0m\u001b[37m\u001b[0m \u001b[1m0s\u001b[0m 151ms/step - AUC: 1.0000 - accuracy: 0.7143 - loss: 0.4698 - val_AUC: 0.0000e+00 - val_accuracy: 1.0000 - val_loss: 0.6838\n",
      "Epoch 20/100\n",
      "\u001b[1m1/1\u001b[0m \u001b[32m━━━━━━━━━━━━━━━━━━━━\u001b[0m\u001b[37m\u001b[0m \u001b[1m0s\u001b[0m 169ms/step - AUC: 1.0000 - accuracy: 0.5714 - loss: 0.4881 - val_AUC: 0.0000e+00 - val_accuracy: 1.0000 - val_loss: 0.6777\n",
      "Epoch 21/100\n",
      "\u001b[1m1/1\u001b[0m \u001b[32m━━━━━━━━━━━━━━━━━━━━\u001b[0m\u001b[37m\u001b[0m \u001b[1m0s\u001b[0m 144ms/step - AUC: 1.0000 - accuracy: 0.8571 - loss: 0.4302 - val_AUC: 0.0000e+00 - val_accuracy: 1.0000 - val_loss: 0.6710\n",
      "Epoch 22/100\n",
      "\u001b[1m1/1\u001b[0m \u001b[32m━━━━━━━━━━━━━━━━━━━━\u001b[0m\u001b[37m\u001b[0m \u001b[1m0s\u001b[0m 142ms/step - AUC: 1.0000 - accuracy: 0.8571 - loss: 0.4358 - val_AUC: 0.0000e+00 - val_accuracy: 1.0000 - val_loss: 0.6643\n",
      "Epoch 23/100\n",
      "\u001b[1m1/1\u001b[0m \u001b[32m━━━━━━━━━━━━━━━━━━━━\u001b[0m\u001b[37m\u001b[0m \u001b[1m0s\u001b[0m 154ms/step - AUC: 1.0000 - accuracy: 0.7143 - loss: 0.5084 - val_AUC: 0.0000e+00 - val_accuracy: 1.0000 - val_loss: 0.6579\n",
      "Epoch 24/100\n",
      "\u001b[1m1/1\u001b[0m \u001b[32m━━━━━━━━━━━━━━━━━━━━\u001b[0m\u001b[37m\u001b[0m \u001b[1m0s\u001b[0m 140ms/step - AUC: 1.0000 - accuracy: 0.8571 - loss: 0.5202 - val_AUC: 0.0000e+00 - val_accuracy: 1.0000 - val_loss: 0.6515\n",
      "Epoch 25/100\n",
      "\u001b[1m1/1\u001b[0m \u001b[32m━━━━━━━━━━━━━━━━━━━━\u001b[0m\u001b[37m\u001b[0m \u001b[1m0s\u001b[0m 171ms/step - AUC: 1.0000 - accuracy: 0.5714 - loss: 0.4697 - val_AUC: 0.0000e+00 - val_accuracy: 1.0000 - val_loss: 0.6454\n",
      "Epoch 26/100\n",
      "\u001b[1m1/1\u001b[0m \u001b[32m━━━━━━━━━━━━━━━━━━━━\u001b[0m\u001b[37m\u001b[0m \u001b[1m0s\u001b[0m 200ms/step - AUC: 1.0000 - accuracy: 0.7143 - loss: 0.4483 - val_AUC: 0.0000e+00 - val_accuracy: 1.0000 - val_loss: 0.6391\n",
      "Epoch 27/100\n",
      "\u001b[1m1/1\u001b[0m \u001b[32m━━━━━━━━━━━━━━━━━━━━\u001b[0m\u001b[37m\u001b[0m \u001b[1m0s\u001b[0m 149ms/step - AUC: 1.0000 - accuracy: 0.7143 - loss: 0.4960 - val_AUC: 0.0000e+00 - val_accuracy: 1.0000 - val_loss: 0.6330\n",
      "Epoch 28/100\n",
      "\u001b[1m1/1\u001b[0m \u001b[32m━━━━━━━━━━━━━━━━━━━━\u001b[0m\u001b[37m\u001b[0m \u001b[1m0s\u001b[0m 168ms/step - AUC: 1.0000 - accuracy: 0.7143 - loss: 0.4913 - val_AUC: 0.0000e+00 - val_accuracy: 1.0000 - val_loss: 0.6270\n",
      "Epoch 29/100\n",
      "\u001b[1m1/1\u001b[0m \u001b[32m━━━━━━━━━━━━━━━━━━━━\u001b[0m\u001b[37m\u001b[0m \u001b[1m0s\u001b[0m 150ms/step - AUC: 1.0000 - accuracy: 0.7143 - loss: 0.4832 - val_AUC: 0.0000e+00 - val_accuracy: 1.0000 - val_loss: 0.6212\n",
      "Epoch 30/100\n",
      "\u001b[1m1/1\u001b[0m \u001b[32m━━━━━━━━━━━━━━━━━━━━\u001b[0m\u001b[37m\u001b[0m \u001b[1m0s\u001b[0m 132ms/step - AUC: 1.0000 - accuracy: 0.7143 - loss: 0.4632 - val_AUC: 0.0000e+00 - val_accuracy: 1.0000 - val_loss: 0.6155\n",
      "Epoch 31/100\n",
      "\u001b[1m1/1\u001b[0m \u001b[32m━━━━━━━━━━━━━━━━━━━━\u001b[0m\u001b[37m\u001b[0m \u001b[1m0s\u001b[0m 132ms/step - AUC: 1.0000 - accuracy: 1.0000 - loss: 0.4592 - val_AUC: 0.0000e+00 - val_accuracy: 1.0000 - val_loss: 0.6097\n",
      "Epoch 32/100\n",
      "\u001b[1m1/1\u001b[0m \u001b[32m━━━━━━━━━━━━━━━━━━━━\u001b[0m\u001b[37m\u001b[0m \u001b[1m0s\u001b[0m 138ms/step - AUC: 1.0000 - accuracy: 0.5714 - loss: 0.4570 - val_AUC: 0.0000e+00 - val_accuracy: 1.0000 - val_loss: 0.6065\n",
      "Epoch 33/100\n",
      "\u001b[1m1/1\u001b[0m \u001b[32m━━━━━━━━━━━━━━━━━━━━\u001b[0m\u001b[37m\u001b[0m \u001b[1m0s\u001b[0m 153ms/step - AUC: 1.0000 - accuracy: 0.8571 - loss: 0.3942 - val_AUC: 0.0000e+00 - val_accuracy: 1.0000 - val_loss: 0.6037\n",
      "Epoch 34/100\n",
      "\u001b[1m1/1\u001b[0m \u001b[32m━━━━━━━━━━━━━━━━━━━━\u001b[0m\u001b[37m\u001b[0m \u001b[1m0s\u001b[0m 143ms/step - AUC: 1.0000 - accuracy: 1.0000 - loss: 0.4069 - val_AUC: 0.0000e+00 - val_accuracy: 1.0000 - val_loss: 0.6007\n",
      "Epoch 35/100\n",
      "\u001b[1m1/1\u001b[0m \u001b[32m━━━━━━━━━━━━━━━━━━━━\u001b[0m\u001b[37m\u001b[0m \u001b[1m0s\u001b[0m 137ms/step - AUC: 1.0000 - accuracy: 0.8571 - loss: 0.4328 - val_AUC: 0.0000e+00 - val_accuracy: 1.0000 - val_loss: 0.5976\n",
      "Epoch 36/100\n",
      "\u001b[1m1/1\u001b[0m \u001b[32m━━━━━━━━━━━━━━━━━━━━\u001b[0m\u001b[37m\u001b[0m \u001b[1m0s\u001b[0m 142ms/step - AUC: 1.0000 - accuracy: 0.7143 - loss: 0.4191 - val_AUC: 0.0000e+00 - val_accuracy: 1.0000 - val_loss: 0.5946\n",
      "Epoch 37/100\n",
      "\u001b[1m1/1\u001b[0m \u001b[32m━━━━━━━━━━━━━━━━━━━━\u001b[0m\u001b[37m\u001b[0m \u001b[1m0s\u001b[0m 134ms/step - AUC: 1.0000 - accuracy: 0.7143 - loss: 0.4262 - val_AUC: 0.0000e+00 - val_accuracy: 1.0000 - val_loss: 0.5915\n",
      "Epoch 38/100\n",
      "\u001b[1m1/1\u001b[0m \u001b[32m━━━━━━━━━━━━━━━━━━━━\u001b[0m\u001b[37m\u001b[0m \u001b[1m0s\u001b[0m 161ms/step - AUC: 1.0000 - accuracy: 0.8571 - loss: 0.3960 - val_AUC: 0.0000e+00 - val_accuracy: 1.0000 - val_loss: 0.5883\n",
      "Epoch 39/100\n",
      "\u001b[1m1/1\u001b[0m \u001b[32m━━━━━━━━━━━━━━━━━━━━\u001b[0m\u001b[37m\u001b[0m \u001b[1m0s\u001b[0m 126ms/step - AUC: 1.0000 - accuracy: 0.8571 - loss: 0.3676 - val_AUC: 0.0000e+00 - val_accuracy: 1.0000 - val_loss: 0.5851\n",
      "Epoch 40/100\n",
      "\u001b[1m1/1\u001b[0m \u001b[32m━━━━━━━━━━━━━━━━━━━━\u001b[0m\u001b[37m\u001b[0m \u001b[1m0s\u001b[0m 126ms/step - AUC: 1.0000 - accuracy: 1.0000 - loss: 0.4113 - val_AUC: 0.0000e+00 - val_accuracy: 1.0000 - val_loss: 0.5818\n",
      "Epoch 41/100\n",
      "\u001b[1m1/1\u001b[0m \u001b[32m━━━━━━━━━━━━━━━━━━━━\u001b[0m\u001b[37m\u001b[0m \u001b[1m0s\u001b[0m 127ms/step - AUC: 1.0000 - accuracy: 0.7143 - loss: 0.3965 - val_AUC: 0.0000e+00 - val_accuracy: 1.0000 - val_loss: 0.5786\n",
      "Epoch 42/100\n",
      "\u001b[1m1/1\u001b[0m \u001b[32m━━━━━━━━━━━━━━━━━━━━\u001b[0m\u001b[37m\u001b[0m \u001b[1m0s\u001b[0m 128ms/step - AUC: 1.0000 - accuracy: 0.8571 - loss: 0.3737 - val_AUC: 0.0000e+00 - val_accuracy: 1.0000 - val_loss: 0.5753\n",
      "Epoch 43/100\n",
      "\u001b[1m1/1\u001b[0m \u001b[32m━━━━━━━━━━━━━━━━━━━━\u001b[0m\u001b[37m\u001b[0m \u001b[1m0s\u001b[0m 138ms/step - AUC: 1.0000 - accuracy: 1.0000 - loss: 0.3431 - val_AUC: 0.0000e+00 - val_accuracy: 1.0000 - val_loss: 0.5719\n",
      "Epoch 44/100\n",
      "\u001b[1m1/1\u001b[0m \u001b[32m━━━━━━━━━━━━━━━━━━━━\u001b[0m\u001b[37m\u001b[0m \u001b[1m0s\u001b[0m 149ms/step - AUC: 1.0000 - accuracy: 1.0000 - loss: 0.4112 - val_AUC: 0.0000e+00 - val_accuracy: 1.0000 - val_loss: 0.5685\n",
      "Epoch 45/100\n",
      "\u001b[1m1/1\u001b[0m \u001b[32m━━━━━━━━━━━━━━━━━━━━\u001b[0m\u001b[37m\u001b[0m \u001b[1m0s\u001b[0m 151ms/step - AUC: 1.0000 - accuracy: 0.8571 - loss: 0.4379 - val_AUC: 0.0000e+00 - val_accuracy: 1.0000 - val_loss: 0.5650\n",
      "Epoch 46/100\n",
      "\u001b[1m1/1\u001b[0m \u001b[32m━━━━━━━━━━━━━━━━━━━━\u001b[0m\u001b[37m\u001b[0m \u001b[1m0s\u001b[0m 166ms/step - AUC: 1.0000 - accuracy: 0.8571 - loss: 0.4120 - val_AUC: 0.0000e+00 - val_accuracy: 1.0000 - val_loss: 0.5612\n",
      "Epoch 47/100\n",
      "\u001b[1m1/1\u001b[0m \u001b[32m━━━━━━━━━━━━━━━━━━━━\u001b[0m\u001b[37m\u001b[0m \u001b[1m0s\u001b[0m 194ms/step - AUC: 1.0000 - accuracy: 0.8571 - loss: 0.3940 - val_AUC: 0.0000e+00 - val_accuracy: 1.0000 - val_loss: 0.5571\n",
      "Epoch 48/100\n",
      "\u001b[1m1/1\u001b[0m \u001b[32m━━━━━━━━━━━━━━━━━━━━\u001b[0m\u001b[37m\u001b[0m \u001b[1m0s\u001b[0m 157ms/step - AUC: 1.0000 - accuracy: 1.0000 - loss: 0.3581 - val_AUC: 0.0000e+00 - val_accuracy: 1.0000 - val_loss: 0.5529\n",
      "Epoch 49/100\n",
      "\u001b[1m1/1\u001b[0m \u001b[32m━━━━━━━━━━━━━━━━━━━━\u001b[0m\u001b[37m\u001b[0m \u001b[1m0s\u001b[0m 157ms/step - AUC: 1.0000 - accuracy: 0.8571 - loss: 0.3742 - val_AUC: 0.0000e+00 - val_accuracy: 1.0000 - val_loss: 0.5487\n",
      "Epoch 50/100\n",
      "\u001b[1m1/1\u001b[0m \u001b[32m━━━━━━━━━━━━━━━━━━━━\u001b[0m\u001b[37m\u001b[0m \u001b[1m0s\u001b[0m 152ms/step - AUC: 1.0000 - accuracy: 1.0000 - loss: 0.3781 - val_AUC: 0.0000e+00 - val_accuracy: 1.0000 - val_loss: 0.5445\n",
      "Epoch 51/100\n",
      "\u001b[1m1/1\u001b[0m \u001b[32m━━━━━━━━━━━━━━━━━━━━\u001b[0m\u001b[37m\u001b[0m \u001b[1m0s\u001b[0m 128ms/step - AUC: 1.0000 - accuracy: 1.0000 - loss: 0.3718 - val_AUC: 0.0000e+00 - val_accuracy: 1.0000 - val_loss: 0.5401\n",
      "Epoch 52/100\n",
      "\u001b[1m1/1\u001b[0m \u001b[32m━━━━━━━━━━━━━━━━━━━━\u001b[0m\u001b[37m\u001b[0m \u001b[1m0s\u001b[0m 123ms/step - AUC: 1.0000 - accuracy: 1.0000 - loss: 0.3490 - val_AUC: 0.0000e+00 - val_accuracy: 1.0000 - val_loss: 0.5359\n",
      "Epoch 53/100\n",
      "\u001b[1m1/1\u001b[0m \u001b[32m━━━━━━━━━━━━━━━━━━━━\u001b[0m\u001b[37m\u001b[0m \u001b[1m0s\u001b[0m 120ms/step - AUC: 1.0000 - accuracy: 1.0000 - loss: 0.3279 - val_AUC: 0.0000e+00 - val_accuracy: 1.0000 - val_loss: 0.5314\n",
      "Epoch 54/100\n",
      "\u001b[1m1/1\u001b[0m \u001b[32m━━━━━━━━━━━━━━━━━━━━\u001b[0m\u001b[37m\u001b[0m \u001b[1m0s\u001b[0m 185ms/step - AUC: 1.0000 - accuracy: 1.0000 - loss: 0.3364 - val_AUC: 0.0000e+00 - val_accuracy: 1.0000 - val_loss: 0.5270\n",
      "Epoch 55/100\n",
      "\u001b[1m1/1\u001b[0m \u001b[32m━━━━━━━━━━━━━━━━━━━━\u001b[0m\u001b[37m\u001b[0m \u001b[1m0s\u001b[0m 123ms/step - AUC: 1.0000 - accuracy: 1.0000 - loss: 0.3291 - val_AUC: 0.0000e+00 - val_accuracy: 1.0000 - val_loss: 0.5224\n",
      "Epoch 56/100\n",
      "\u001b[1m1/1\u001b[0m \u001b[32m━━━━━━━━━━━━━━━━━━━━\u001b[0m\u001b[37m\u001b[0m \u001b[1m0s\u001b[0m 162ms/step - AUC: 1.0000 - accuracy: 1.0000 - loss: 0.4323 - val_AUC: 0.0000e+00 - val_accuracy: 1.0000 - val_loss: 0.5179\n",
      "Epoch 57/100\n",
      "\u001b[1m1/1\u001b[0m \u001b[32m━━━━━━━━━━━━━━━━━━━━\u001b[0m\u001b[37m\u001b[0m \u001b[1m0s\u001b[0m 142ms/step - AUC: 1.0000 - accuracy: 1.0000 - loss: 0.3799 - val_AUC: 0.0000e+00 - val_accuracy: 1.0000 - val_loss: 0.5136\n",
      "Epoch 58/100\n",
      "\u001b[1m1/1\u001b[0m \u001b[32m━━━━━━━━━━━━━━━━━━━━\u001b[0m\u001b[37m\u001b[0m \u001b[1m0s\u001b[0m 138ms/step - AUC: 1.0000 - accuracy: 1.0000 - loss: 0.3334 - val_AUC: 0.0000e+00 - val_accuracy: 1.0000 - val_loss: 0.5092\n",
      "Epoch 59/100\n",
      "\u001b[1m1/1\u001b[0m \u001b[32m━━━━━━━━━━━━━━━━━━━━\u001b[0m\u001b[37m\u001b[0m \u001b[1m0s\u001b[0m 137ms/step - AUC: 1.0000 - accuracy: 1.0000 - loss: 0.3089 - val_AUC: 0.0000e+00 - val_accuracy: 1.0000 - val_loss: 0.5046\n",
      "Epoch 60/100\n",
      "\u001b[1m1/1\u001b[0m \u001b[32m━━━━━━━━━━━━━━━━━━━━\u001b[0m\u001b[37m\u001b[0m \u001b[1m0s\u001b[0m 116ms/step - AUC: 1.0000 - accuracy: 0.8571 - loss: 0.3456 - val_AUC: 0.0000e+00 - val_accuracy: 1.0000 - val_loss: 0.5000\n",
      "Epoch 61/100\n",
      "\u001b[1m1/1\u001b[0m \u001b[32m━━━━━━━━━━━━━━━━━━━━\u001b[0m\u001b[37m\u001b[0m \u001b[1m0s\u001b[0m 120ms/step - AUC: 1.0000 - accuracy: 1.0000 - loss: 0.2974 - val_AUC: 0.0000e+00 - val_accuracy: 1.0000 - val_loss: 0.4953\n",
      "Epoch 62/100\n",
      "\u001b[1m1/1\u001b[0m \u001b[32m━━━━━━━━━━━━━━━━━━━━\u001b[0m\u001b[37m\u001b[0m \u001b[1m0s\u001b[0m 114ms/step - AUC: 1.0000 - accuracy: 1.0000 - loss: 0.3158 - val_AUC: 0.0000e+00 - val_accuracy: 1.0000 - val_loss: 0.4905\n",
      "Epoch 63/100\n",
      "\u001b[1m1/1\u001b[0m \u001b[32m━━━━━━━━━━━━━━━━━━━━\u001b[0m\u001b[37m\u001b[0m \u001b[1m0s\u001b[0m 136ms/step - AUC: 1.0000 - accuracy: 1.0000 - loss: 0.2964 - val_AUC: 0.0000e+00 - val_accuracy: 1.0000 - val_loss: 0.4856\n",
      "Epoch 64/100\n",
      "\u001b[1m1/1\u001b[0m \u001b[32m━━━━━━━━━━━━━━━━━━━━\u001b[0m\u001b[37m\u001b[0m \u001b[1m0s\u001b[0m 130ms/step - AUC: 1.0000 - accuracy: 1.0000 - loss: 0.2996 - val_AUC: 0.0000e+00 - val_accuracy: 1.0000 - val_loss: 0.4806\n",
      "Epoch 65/100\n",
      "\u001b[1m1/1\u001b[0m \u001b[32m━━━━━━━━━━━━━━━━━━━━\u001b[0m\u001b[37m\u001b[0m \u001b[1m0s\u001b[0m 135ms/step - AUC: 1.0000 - accuracy: 1.0000 - loss: 0.3146 - val_AUC: 0.0000e+00 - val_accuracy: 1.0000 - val_loss: 0.4756\n",
      "Epoch 66/100\n",
      "\u001b[1m1/1\u001b[0m \u001b[32m━━━━━━━━━━━━━━━━━━━━\u001b[0m\u001b[37m\u001b[0m \u001b[1m0s\u001b[0m 126ms/step - AUC: 1.0000 - accuracy: 1.0000 - loss: 0.3514 - val_AUC: 0.0000e+00 - val_accuracy: 1.0000 - val_loss: 0.4707\n",
      "Epoch 67/100\n",
      "\u001b[1m1/1\u001b[0m \u001b[32m━━━━━━━━━━━━━━━━━━━━\u001b[0m\u001b[37m\u001b[0m \u001b[1m0s\u001b[0m 117ms/step - AUC: 1.0000 - accuracy: 1.0000 - loss: 0.2811 - val_AUC: 0.0000e+00 - val_accuracy: 1.0000 - val_loss: 0.4657\n",
      "Epoch 68/100\n",
      "\u001b[1m1/1\u001b[0m \u001b[32m━━━━━━━━━━━━━━━━━━━━\u001b[0m\u001b[37m\u001b[0m \u001b[1m0s\u001b[0m 137ms/step - AUC: 1.0000 - accuracy: 1.0000 - loss: 0.2578 - val_AUC: 0.0000e+00 - val_accuracy: 1.0000 - val_loss: 0.4606\n",
      "Epoch 69/100\n",
      "\u001b[1m1/1\u001b[0m \u001b[32m━━━━━━━━━━━━━━━━━━━━\u001b[0m\u001b[37m\u001b[0m \u001b[1m0s\u001b[0m 138ms/step - AUC: 1.0000 - accuracy: 1.0000 - loss: 0.2731 - val_AUC: 0.0000e+00 - val_accuracy: 1.0000 - val_loss: 0.4554\n",
      "Epoch 70/100\n",
      "\u001b[1m1/1\u001b[0m \u001b[32m━━━━━━━━━━━━━━━━━━━━\u001b[0m\u001b[37m\u001b[0m \u001b[1m0s\u001b[0m 139ms/step - AUC: 1.0000 - accuracy: 1.0000 - loss: 0.3078 - val_AUC: 0.0000e+00 - val_accuracy: 1.0000 - val_loss: 0.4502\n",
      "Epoch 71/100\n",
      "\u001b[1m1/1\u001b[0m \u001b[32m━━━━━━━━━━━━━━━━━━━━\u001b[0m\u001b[37m\u001b[0m \u001b[1m0s\u001b[0m 120ms/step - AUC: 1.0000 - accuracy: 1.0000 - loss: 0.2918 - val_AUC: 0.0000e+00 - val_accuracy: 1.0000 - val_loss: 0.4450\n",
      "Epoch 72/100\n",
      "\u001b[1m1/1\u001b[0m \u001b[32m━━━━━━━━━━━━━━━━━━━━\u001b[0m\u001b[37m\u001b[0m \u001b[1m0s\u001b[0m 170ms/step - AUC: 1.0000 - accuracy: 1.0000 - loss: 0.2725 - val_AUC: 0.0000e+00 - val_accuracy: 1.0000 - val_loss: 0.4397\n",
      "Epoch 73/100\n",
      "\u001b[1m1/1\u001b[0m \u001b[32m━━━━━━━━━━━━━━━━━━━━\u001b[0m\u001b[37m\u001b[0m \u001b[1m0s\u001b[0m 116ms/step - AUC: 1.0000 - accuracy: 1.0000 - loss: 0.2672 - val_AUC: 0.0000e+00 - val_accuracy: 1.0000 - val_loss: 0.4344\n",
      "Epoch 74/100\n",
      "\u001b[1m1/1\u001b[0m \u001b[32m━━━━━━━━━━━━━━━━━━━━\u001b[0m\u001b[37m\u001b[0m \u001b[1m0s\u001b[0m 119ms/step - AUC: 1.0000 - accuracy: 1.0000 - loss: 0.2593 - val_AUC: 0.0000e+00 - val_accuracy: 1.0000 - val_loss: 0.4291\n",
      "Epoch 75/100\n",
      "\u001b[1m1/1\u001b[0m \u001b[32m━━━━━━━━━━━━━━━━━━━━\u001b[0m\u001b[37m\u001b[0m \u001b[1m0s\u001b[0m 157ms/step - AUC: 1.0000 - accuracy: 1.0000 - loss: 0.2506 - val_AUC: 0.0000e+00 - val_accuracy: 1.0000 - val_loss: 0.4237\n",
      "Epoch 76/100\n",
      "\u001b[1m1/1\u001b[0m \u001b[32m━━━━━━━━━━━━━━━━━━━━\u001b[0m\u001b[37m\u001b[0m \u001b[1m0s\u001b[0m 181ms/step - AUC: 1.0000 - accuracy: 1.0000 - loss: 0.2372 - val_AUC: 0.0000e+00 - val_accuracy: 1.0000 - val_loss: 0.4183\n",
      "Epoch 77/100\n",
      "\u001b[1m1/1\u001b[0m \u001b[32m━━━━━━━━━━━━━━━━━━━━\u001b[0m\u001b[37m\u001b[0m \u001b[1m0s\u001b[0m 138ms/step - AUC: 1.0000 - accuracy: 1.0000 - loss: 0.3070 - val_AUC: 0.0000e+00 - val_accuracy: 1.0000 - val_loss: 0.4129\n",
      "Epoch 78/100\n",
      "\u001b[1m1/1\u001b[0m \u001b[32m━━━━━━━━━━━━━━━━━━━━\u001b[0m\u001b[37m\u001b[0m \u001b[1m0s\u001b[0m 128ms/step - AUC: 1.0000 - accuracy: 1.0000 - loss: 0.3094 - val_AUC: 0.0000e+00 - val_accuracy: 1.0000 - val_loss: 0.4076\n",
      "Epoch 79/100\n",
      "\u001b[1m1/1\u001b[0m \u001b[32m━━━━━━━━━━━━━━━━━━━━\u001b[0m\u001b[37m\u001b[0m \u001b[1m0s\u001b[0m 129ms/step - AUC: 1.0000 - accuracy: 1.0000 - loss: 0.2448 - val_AUC: 0.0000e+00 - val_accuracy: 1.0000 - val_loss: 0.4023\n",
      "Epoch 80/100\n",
      "\u001b[1m1/1\u001b[0m \u001b[32m━━━━━━━━━━━━━━━━━━━━\u001b[0m\u001b[37m\u001b[0m \u001b[1m0s\u001b[0m 131ms/step - AUC: 1.0000 - accuracy: 1.0000 - loss: 0.2433 - val_AUC: 0.0000e+00 - val_accuracy: 1.0000 - val_loss: 0.3970\n",
      "Epoch 81/100\n",
      "\u001b[1m1/1\u001b[0m \u001b[32m━━━━━━━━━━━━━━━━━━━━\u001b[0m\u001b[37m\u001b[0m \u001b[1m0s\u001b[0m 128ms/step - AUC: 1.0000 - accuracy: 1.0000 - loss: 0.2820 - val_AUC: 0.0000e+00 - val_accuracy: 1.0000 - val_loss: 0.3917\n",
      "Epoch 82/100\n",
      "\u001b[1m1/1\u001b[0m \u001b[32m━━━━━━━━━━━━━━━━━━━━\u001b[0m\u001b[37m\u001b[0m \u001b[1m0s\u001b[0m 127ms/step - AUC: 1.0000 - accuracy: 1.0000 - loss: 0.2372 - val_AUC: 0.0000e+00 - val_accuracy: 1.0000 - val_loss: 0.3865\n",
      "Epoch 83/100\n",
      "\u001b[1m1/1\u001b[0m \u001b[32m━━━━━━━━━━━━━━━━━━━━\u001b[0m\u001b[37m\u001b[0m \u001b[1m0s\u001b[0m 129ms/step - AUC: 1.0000 - accuracy: 1.0000 - loss: 0.3031 - val_AUC: 0.0000e+00 - val_accuracy: 1.0000 - val_loss: 0.3812\n",
      "Epoch 84/100\n",
      "\u001b[1m1/1\u001b[0m \u001b[32m━━━━━━━━━━━━━━━━━━━━\u001b[0m\u001b[37m\u001b[0m \u001b[1m0s\u001b[0m 175ms/step - AUC: 1.0000 - accuracy: 1.0000 - loss: 0.2347 - val_AUC: 0.0000e+00 - val_accuracy: 1.0000 - val_loss: 0.3758\n",
      "Epoch 85/100\n",
      "\u001b[1m1/1\u001b[0m \u001b[32m━━━━━━━━━━━━━━━━━━━━\u001b[0m\u001b[37m\u001b[0m \u001b[1m0s\u001b[0m 135ms/step - AUC: 1.0000 - accuracy: 1.0000 - loss: 0.2240 - val_AUC: 0.0000e+00 - val_accuracy: 1.0000 - val_loss: 0.3705\n",
      "Epoch 86/100\n",
      "\u001b[1m1/1\u001b[0m \u001b[32m━━━━━━━━━━━━━━━━━━━━\u001b[0m\u001b[37m\u001b[0m \u001b[1m0s\u001b[0m 134ms/step - AUC: 1.0000 - accuracy: 1.0000 - loss: 0.2584 - val_AUC: 0.0000e+00 - val_accuracy: 1.0000 - val_loss: 0.3651\n",
      "Epoch 87/100\n",
      "\u001b[1m1/1\u001b[0m \u001b[32m━━━━━━━━━━━━━━━━━━━━\u001b[0m\u001b[37m\u001b[0m \u001b[1m0s\u001b[0m 132ms/step - AUC: 1.0000 - accuracy: 1.0000 - loss: 0.2157 - val_AUC: 0.0000e+00 - val_accuracy: 1.0000 - val_loss: 0.3598\n",
      "Epoch 88/100\n",
      "\u001b[1m1/1\u001b[0m \u001b[32m━━━━━━━━━━━━━━━━━━━━\u001b[0m\u001b[37m\u001b[0m \u001b[1m0s\u001b[0m 140ms/step - AUC: 1.0000 - accuracy: 1.0000 - loss: 0.2457 - val_AUC: 0.0000e+00 - val_accuracy: 1.0000 - val_loss: 0.3546\n",
      "Epoch 89/100\n",
      "\u001b[1m1/1\u001b[0m \u001b[32m━━━━━━━━━━━━━━━━━━━━\u001b[0m\u001b[37m\u001b[0m \u001b[1m0s\u001b[0m 177ms/step - AUC: 1.0000 - accuracy: 1.0000 - loss: 0.2297 - val_AUC: 0.0000e+00 - val_accuracy: 1.0000 - val_loss: 0.3493\n",
      "Epoch 90/100\n",
      "\u001b[1m1/1\u001b[0m \u001b[32m━━━━━━━━━━━━━━━━━━━━\u001b[0m\u001b[37m\u001b[0m \u001b[1m0s\u001b[0m 120ms/step - AUC: 1.0000 - accuracy: 1.0000 - loss: 0.2273 - val_AUC: 0.0000e+00 - val_accuracy: 1.0000 - val_loss: 0.3441\n",
      "Epoch 91/100\n",
      "\u001b[1m1/1\u001b[0m \u001b[32m━━━━━━━━━━━━━━━━━━━━\u001b[0m\u001b[37m\u001b[0m \u001b[1m0s\u001b[0m 118ms/step - AUC: 1.0000 - accuracy: 1.0000 - loss: 0.2349 - val_AUC: 0.0000e+00 - val_accuracy: 1.0000 - val_loss: 0.3388\n",
      "Epoch 92/100\n",
      "\u001b[1m1/1\u001b[0m \u001b[32m━━━━━━━━━━━━━━━━━━━━\u001b[0m\u001b[37m\u001b[0m \u001b[1m0s\u001b[0m 117ms/step - AUC: 1.0000 - accuracy: 1.0000 - loss: 0.2283 - val_AUC: 0.0000e+00 - val_accuracy: 1.0000 - val_loss: 0.3336\n",
      "Epoch 93/100\n",
      "\u001b[1m1/1\u001b[0m \u001b[32m━━━━━━━━━━━━━━━━━━━━\u001b[0m\u001b[37m\u001b[0m \u001b[1m0s\u001b[0m 137ms/step - AUC: 1.0000 - accuracy: 1.0000 - loss: 0.2049 - val_AUC: 0.0000e+00 - val_accuracy: 1.0000 - val_loss: 0.3284\n",
      "Epoch 94/100\n",
      "\u001b[1m1/1\u001b[0m \u001b[32m━━━━━━━━━━━━━━━━━━━━\u001b[0m\u001b[37m\u001b[0m \u001b[1m0s\u001b[0m 118ms/step - AUC: 1.0000 - accuracy: 1.0000 - loss: 0.2177 - val_AUC: 0.0000e+00 - val_accuracy: 1.0000 - val_loss: 0.3232\n",
      "Epoch 95/100\n",
      "\u001b[1m1/1\u001b[0m \u001b[32m━━━━━━━━━━━━━━━━━━━━\u001b[0m\u001b[37m\u001b[0m \u001b[1m0s\u001b[0m 118ms/step - AUC: 1.0000 - accuracy: 1.0000 - loss: 0.1884 - val_AUC: 0.0000e+00 - val_accuracy: 1.0000 - val_loss: 0.3182\n",
      "Epoch 96/100\n",
      "\u001b[1m1/1\u001b[0m \u001b[32m━━━━━━━━━━━━━━━━━━━━\u001b[0m\u001b[37m\u001b[0m \u001b[1m0s\u001b[0m 118ms/step - AUC: 1.0000 - accuracy: 1.0000 - loss: 0.2046 - val_AUC: 0.0000e+00 - val_accuracy: 1.0000 - val_loss: 0.3131\n",
      "Epoch 97/100\n",
      "\u001b[1m1/1\u001b[0m \u001b[32m━━━━━━━━━━━━━━━━━━━━\u001b[0m\u001b[37m\u001b[0m \u001b[1m0s\u001b[0m 122ms/step - AUC: 1.0000 - accuracy: 1.0000 - loss: 0.2089 - val_AUC: 0.0000e+00 - val_accuracy: 1.0000 - val_loss: 0.3081\n",
      "Epoch 98/100\n",
      "\u001b[1m1/1\u001b[0m \u001b[32m━━━━━━━━━━━━━━━━━━━━\u001b[0m\u001b[37m\u001b[0m \u001b[1m0s\u001b[0m 122ms/step - AUC: 1.0000 - accuracy: 1.0000 - loss: 0.2236 - val_AUC: 0.0000e+00 - val_accuracy: 1.0000 - val_loss: 0.3030\n",
      "Epoch 99/100\n",
      "\u001b[1m1/1\u001b[0m \u001b[32m━━━━━━━━━━━━━━━━━━━━\u001b[0m\u001b[37m\u001b[0m \u001b[1m0s\u001b[0m 119ms/step - AUC: 1.0000 - accuracy: 1.0000 - loss: 0.2589 - val_AUC: 0.0000e+00 - val_accuracy: 1.0000 - val_loss: 0.2980\n",
      "Epoch 100/100\n",
      "\u001b[1m1/1\u001b[0m \u001b[32m━━━━━━━━━━━━━━━━━━━━\u001b[0m\u001b[37m\u001b[0m \u001b[1m0s\u001b[0m 118ms/step - AUC: 1.0000 - accuracy: 1.0000 - loss: 0.1993 - val_AUC: 0.0000e+00 - val_accuracy: 1.0000 - val_loss: 0.2930\n"
     ]
    }
   ],
   "source": [
    "es = keras.callbacks.EarlyStopping(\n",
    "    monitor=\"val_loss\", patience=10, restore_best_weights=True\n",
    ")\n",
    "\n",
    "history = model.fit(\n",
    "    X_train, y_train,\n",
    "    validation_data=(X_val, y_val),\n",
    "    epochs=100, batch_size=32,\n",
    "    callbacks=[es], verbose=1\n",
    ")"
   ]
  },
  {
   "cell_type": "code",
   "execution_count": 7,
   "id": "fabf21b2",
   "metadata": {},
   "outputs": [
    {
     "name": "stdout",
     "output_type": "stream",
     "text": [
      "Test Acc: 1.0 AUC: 0.0\n",
      "\u001b[1m1/1\u001b[0m \u001b[32m━━━━━━━━━━━━━━━━━━━━\u001b[0m\u001b[37m\u001b[0m \u001b[1m0s\u001b[0m 143ms/step\n",
      "[[2]]\n",
      "              precision    recall  f1-score   support\n",
      "\n",
      "           0      1.000     1.000     1.000         2\n",
      "\n",
      "    accuracy                          1.000         2\n",
      "   macro avg      1.000     1.000     1.000         2\n",
      "weighted avg      1.000     1.000     1.000         2\n",
      "\n"
     ]
    },
    {
     "name": "stderr",
     "output_type": "stream",
     "text": [
      "d:\\machine_learning\\.venv\\lib\\site-packages\\sklearn\\metrics\\_classification.py:534: UserWarning: A single label was found in 'y_true' and 'y_pred'. For the confusion matrix to have the correct shape, use the 'labels' parameter to pass all known labels.\n",
      "  warnings.warn(\n"
     ]
    }
   ],
   "source": [
    "from sklearn.metrics import classification_report, confusion_matrix\n",
    "\n",
    "loss, acc, auc = model.evaluate(X_test, y_test, verbose=0)\n",
    "print(\"Test Acc:\", acc, \"AUC:\", auc)\n",
    "\n",
    "y_proba = model.predict(X_test).ravel()\n",
    "y_pred = (y_proba >= 0.5).astype(int)\n",
    "\n",
    "print(confusion_matrix(y_test, y_pred))\n",
    "print(classification_report(y_test, y_pred, digits=3))"
   ]
  },
  {
   "cell_type": "code",
   "execution_count": 8,
   "id": "eb5b2389",
   "metadata": {},
   "outputs": [
    {
     "data": {
      "image/png": "[encoded data removed]",
      "text/plain": [
       "<Figure size 640x480 with 1 Axes>"
      ]
     },
     "metadata": {},
     "output_type": "display_data"
    }
   ],
   "source": [
    "import matplotlib.pyplot as plt\n",
    "\n",
    "plt.plot(history.history[\"loss\"], label=\"Train Loss\")\n",
    "plt.plot(history.history[\"val_loss\"], label=\"Val Loss\")\n",
    "plt.xlabel(\"Epoch\"); plt.ylabel(\"Loss\"); plt.legend()\n",
    "plt.title(\"Learning Curve\")\n",
    "plt.tight_layout(); plt.savefig(\"learning_curve.png\", dpi=120)"
   ]
  },
  {
   "cell_type": "code",
   "execution_count": null,
   "id": "7240883e",
   "metadata": {},
   "outputs": [],
   "source": []
  }
 ],
 "metadata": {
  "kernelspec": {
   "display_name": ".venv",
   "language": "python",
   "name": "python3"
  },
  "language_info": {
   "codemirror_mode": {
    "name": "ipython",
    "version": 3
   },
   "file_extension": ".py",
   "mimetype": "text/x-python",
   "name": "python",
   "nbconvert_exporter": "python",
   "pygments_lexer": "ipython3",
   "version": "3.10.11"
  }
 },
 "nbformat": 4,
 "nbformat_minor": 5
}
